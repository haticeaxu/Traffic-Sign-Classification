{
 "cells": [
  {
   "cell_type": "code",
   "execution_count": 18,
   "metadata": {
    "colab": {
     "base_uri": "https://localhost:8080/"
    },
    "executionInfo": {
     "elapsed": 2139,
     "status": "ok",
     "timestamp": 1732383151828,
     "user": {
      "displayName": "Hatice Aksu",
      "userId": "00313444944309418514"
     },
     "user_tz": -180
    },
    "id": "EQ6ysD0w5tm9",
    "outputId": "28566326-491b-4584-a809-d6fd880d5065"
   },
   "outputs": [
    {
     "name": "stdout",
     "output_type": "stream",
     "text": [
      "Drive already mounted at /content/drive; to attempt to forcibly remount, call drive.mount(\"/content/drive\", force_remount=True).\n"
     ]
    }
   ],
   "source": [
    "from google.colab import drive\n",
    "drive.mount('/content/drive')"
   ]
  },
  {
   "cell_type": "markdown",
   "metadata": {
    "id": "nKA0puhRwFMl"
   },
   "source": [
    "1. Gerekli Kütüphanelerin Yüklenmesi\n"
   ]
  },
  {
   "cell_type": "code",
   "execution_count": 19,
   "metadata": {
    "executionInfo": {
     "elapsed": 343,
     "status": "ok",
     "timestamp": 1732383154597,
     "user": {
      "displayName": "Hatice Aksu",
      "userId": "00313444944309418514"
     },
     "user_tz": -180
    },
    "id": "TCULloUxvwu_"
   },
   "outputs": [],
   "source": [
    "import numpy as np\n",
    "import pandas as pd\n",
    "import os\n",
    "import cv2\n",
    "import joblib\n",
    "import time\n",
    "import torch\n",
    "import torch.nn as nn\n",
    "import torch.optim as optim\n",
    "from torch.utils.data import DataLoader, Dataset\n",
    "import torchvision.transforms as transforms\n",
    "from sklearn.model_selection import train_test_split, GridSearchCV\n",
    "from sklearn.preprocessing import StandardScaler\n",
    "from sklearn.impute import SimpleImputer\n",
    "from sklearn.metrics import classification_report, confusion_matrix, accuracy_score, precision_score, recall_score, f1_score\n",
    "from sklearn.neural_network import MLPClassifier\n",
    "import seaborn as sns\n",
    "import matplotlib.pyplot as plt"
   ]
  },
  {
   "cell_type": "markdown",
   "metadata": {
    "id": "z_dHmnn7wLiH"
   },
   "source": [
    "\n",
    "2. Veri Seti Yükleme ve Ön İşleme\n",
    "\n",
    "GTSRB veri setini yükleme"
   ]
  },
  {
   "cell_type": "code",
   "execution_count": 20,
   "metadata": {
    "executionInfo": {
     "elapsed": 284,
     "status": "ok",
     "timestamp": 1732383157671,
     "user": {
      "displayName": "Hatice Aksu",
      "userId": "00313444944309418514"
     },
     "user_tz": -180
    },
    "id": "z2hn3vYQ5-1z"
   },
   "outputs": [],
   "source": [
    "base_folder = \"/content/drive/My Drive/Training\"\n",
    "data = []\n",
    "labels = []"
   ]
  },
  {
   "cell_type": "markdown",
   "metadata": {
    "id": "_vOOgX4VwTK9"
   },
   "source": [
    "2.1. Veri Yükleme:\n",
    "\n",
    "Her bir sınıf klasörünü gezerek, görüntü dosyalarını ve etiket bilgilerini yüklenir. Veri seti büyük olduğu için ilk iki klasör ile model eğitildi."
   ]
  },
  {
   "cell_type": "code",
   "execution_count": 21,
   "metadata": {
    "executionInfo": {
     "elapsed": 374250,
     "status": "ok",
     "timestamp": 1732383537140,
     "user": {
      "displayName": "Hatice Aksu",
      "userId": "00313444944309418514"
     },
     "user_tz": -180
    },
    "id": "81ZVVLAPwVqM"
   },
   "outputs": [],
   "source": [
    "for class_folder in os.listdir(base_folder):\n",
    "    class_path = os.path.join(base_folder, class_folder)\n",
    "    if os.path.isdir(class_path):\n",
    "        try:\n",
    "            csv_file = os.path.join(class_path, f\"GT-{class_folder}.csv\")\n",
    "            annotations = pd.read_csv(csv_file, sep=';')\n",
    "            for _, row in annotations.iterrows():\n",
    "                image_path = os.path.join(class_path, row['Filename'])\n",
    "                image = cv2.imread(image_path)\n",
    "                if image is not None:\n",
    "                    image = cv2.resize(image, (32, 32))\n",
    "                    data.append(image)\n",
    "                    labels.append(row['ClassId'])\n",
    "        except PermissionError:\n",
    "            print(f\"Permission denied for folder: {class_path}\")"
   ]
  },
  {
   "cell_type": "code",
   "execution_count": 22,
   "metadata": {
    "executionInfo": {
     "elapsed": 271,
     "status": "ok",
     "timestamp": 1732383561840,
     "user": {
      "displayName": "Hatice Aksu",
      "userId": "00313444944309418514"
     },
     "user_tz": -180
    },
    "id": "hNwRS3cs1BI8"
   },
   "outputs": [],
   "source": [
    "# Veriyi numpy array'e dönüştürme\n",
    "data = np.array(data, dtype='float32') / 255.0\n",
    "labels = np.array(labels)"
   ]
  },
  {
   "cell_type": "markdown",
   "metadata": {
    "id": "OfUOugsw1WPD"
   },
   "source": [
    "2.2. Eksik Değerlerin İşlenmesi:\n",
    "SimpleImputer kullanılarak eksik değerlerin sütundaki ortalama ile doldurulması sağlandı.\n",
    "Veri, modelin işleyebilmesi için 2 boyutlu hale getirildi.\n",
    "Son olarak, veri doldurucuya (imputer) fit edilip dönüştürüldü (fit_transform), yani eksik değerler ortalama ile dolduruldu.\n"
   ]
  },
  {
   "cell_type": "code",
   "execution_count": 23,
   "metadata": {
    "executionInfo": {
     "elapsed": 248,
     "status": "ok",
     "timestamp": 1732383564189,
     "user": {
      "displayName": "Hatice Aksu",
      "userId": "00313444944309418514"
     },
     "user_tz": -180
    },
    "id": "S9xDADYx1agL"
   },
   "outputs": [],
   "source": [
    "imputer = SimpleImputer(strategy='mean')\n",
    "data_reshaped = data.reshape(data.shape[0], -1)\n",
    "data_imputed = imputer.fit_transform(data_reshaped)"
   ]
  },
  {
   "cell_type": "code",
   "execution_count": 24,
   "metadata": {
    "executionInfo": {
     "elapsed": 301,
     "status": "ok",
     "timestamp": 1732383568826,
     "user": {
      "displayName": "Hatice Aksu",
      "userId": "00313444944309418514"
     },
     "user_tz": -180
    },
    "id": "f7qurH2q1eOv"
   },
   "outputs": [],
   "source": [
    "# Veri Artırma\n",
    "augmented_data = []\n",
    "augmented_labels = []\n",
    "for i in range(len(data_imputed)):\n",
    "    image = data_imputed[i].reshape(32, 32, 3)\n",
    "    label = labels[i]\n",
    "    augmented_data.append(image)\n",
    "    augmented_labels.append(label)\n",
    "    rotated_image = cv2.rotate(image, cv2.ROTATE_90_CLOCKWISE)\n",
    "    augmented_data.append(rotated_image)\n",
    "    augmented_labels.append(label)\n",
    "    flipped_image = cv2.flip(image, 1)\n",
    "    augmented_data.append(flipped_image)\n",
    "    augmented_labels.append(label)\n",
    "\n",
    "augmented_data = np.array(augmented_data, dtype='float32')\n",
    "augmented_labels = np.array(augmented_labels)"
   ]
  },
  {
   "cell_type": "markdown",
   "metadata": {
    "id": "NkURXBeZ1jkT"
   },
   "source": [
    "2.4. Özellik Ölçekleme (Feature Scaling):\n",
    "Verileri MLP ve RBF için uygun hale getirmek için StandardScaler ile standartlaştırıldı."
   ]
  },
  {
   "cell_type": "code",
   "execution_count": 25,
   "metadata": {
    "executionInfo": {
     "elapsed": 630,
     "status": "ok",
     "timestamp": 1732383574357,
     "user": {
      "displayName": "Hatice Aksu",
      "userId": "00313444944309418514"
     },
     "user_tz": -180
    },
    "id": "P-1RnNiX1hHJ"
   },
   "outputs": [],
   "source": [
    "scaler = StandardScaler()\n",
    "augmented_data_reshaped = augmented_data.reshape(augmented_data.shape[0], -1)\n",
    "augmented_data_scaled = scaler.fit_transform(augmented_data_reshaped)\n",
    "augmented_data = augmented_data_scaled.reshape(-1, 32, 32, 3)"
   ]
  },
  {
   "cell_type": "markdown",
   "metadata": {
    "id": "22-BpkiT1rTt"
   },
   "source": [
    "2.3. Veri Setini Eğitim ve Test Olarak Ayırma:\n",
    " Veri %80 eğitim, %20 test olarak ikiye ayırıldı."
   ]
  },
  {
   "cell_type": "code",
   "execution_count": 26,
   "metadata": {
    "executionInfo": {
     "elapsed": 331,
     "status": "ok",
     "timestamp": 1732383579273,
     "user": {
      "displayName": "Hatice Aksu",
      "userId": "00313444944309418514"
     },
     "user_tz": -180
    },
    "id": "W8DGOKAU1nBe"
   },
   "outputs": [],
   "source": [
    "X_train, X_test, y_train, y_test = train_test_split(augmented_data, augmented_labels, test_size=0.2, random_state=42)"
   ]
  },
  {
   "cell_type": "code",
   "execution_count": 27,
   "metadata": {
    "executionInfo": {
     "elapsed": 249,
     "status": "ok",
     "timestamp": 1732383581354,
     "user": {
      "displayName": "Hatice Aksu",
      "userId": "00313444944309418514"
     },
     "user_tz": -180
    },
    "id": "4stA5cf112Vp"
   },
   "outputs": [],
   "source": [
    "  # Torch Dataset Tanımı\n",
    "  class GTSRBDataset(Dataset):\n",
    "      def __init__(self, data, labels, transform=None):\n",
    "          self.data = data\n",
    "          self.labels = labels\n",
    "          self.transform = transform\n",
    "\n",
    "      def __len__(self):\n",
    "          return len(self.data)\n",
    "\n",
    "      def __getitem__(self, idx):\n",
    "          image = self.data[idx]\n",
    "          label = self.labels[idx]\n",
    "          if self.transform:\n",
    "              image = self.transform(image)\n",
    "          return image, label"
   ]
  },
  {
   "cell_type": "code",
   "execution_count": 47,
   "metadata": {
    "executionInfo": {
     "elapsed": 268,
     "status": "ok",
     "timestamp": 1732386046356,
     "user": {
      "displayName": "Hatice Aksu",
      "userId": "00313444944309418514"
     },
     "user_tz": -180
    },
    "id": "HWIQ4gGe15_s"
   },
   "outputs": [],
   "source": [
    "# Veri Dönüşümleri ve Dataloaders\n",
    "data_transform = transforms.Compose([\n",
    "    transforms.ToTensor(),\n",
    "    transforms.Normalize((0.5, 0.5, 0.5), (0.5, 0.5, 0.5))\n",
    "])\n",
    "train_dataset = GTSRBDataset(X_train, y_train, transform=data_transform)\n",
    "test_dataset = GTSRBDataset(X_test, y_test, transform=data_transform)\n",
    "train_loader = DataLoader(train_dataset, batch_size=32, shuffle=True)\n",
    "test_loader = DataLoader(test_dataset, batch_size=32, shuffle=False)"
   ]
  },
  {
   "cell_type": "markdown",
   "metadata": {
    "id": "OCYMgcEP19nN"
   },
   "source": [
    " 3. Model Eğitimi ve Hiperparametre Denemeleri\n",
    "\n",
    "  3.1. MLP Modeli:\n"
   ]
  },
  {
   "cell_type": "code",
   "execution_count": 29,
   "metadata": {
    "colab": {
     "base_uri": "https://localhost:8080/",
     "height": 134
    },
    "executionInfo": {
     "elapsed": 13872,
     "status": "ok",
     "timestamp": 1732383602641,
     "user": {
      "displayName": "Hatice Aksu",
      "userId": "00313444944309418514"
     },
     "user_tz": -180
    },
    "id": "WiE0m2mx1-00",
    "outputId": "b2b742ff-fc1c-4116-b84d-9ed459093dfd"
   },
   "outputs": [
    {
     "name": "stderr",
     "output_type": "stream",
     "text": [
      "/usr/local/lib/python3.10/dist-packages/sklearn/neural_network/_multilayer_perceptron.py:690: ConvergenceWarning: Stochastic Optimizer: Maximum iterations (10) reached and the optimization hasn't converged yet.\n",
      "  warnings.warn(\n"
     ]
    },
    {
     "data": {
      "text/html": [
       "<style>#sk-container-id-1 {\n",
       "  /* Definition of color scheme common for light and dark mode */\n",
       "  --sklearn-color-text: black;\n",
       "  --sklearn-color-line: gray;\n",
       "  /* Definition of color scheme for unfitted estimators */\n",
       "  --sklearn-color-unfitted-level-0: #fff5e6;\n",
       "  --sklearn-color-unfitted-level-1: #f6e4d2;\n",
       "  --sklearn-color-unfitted-level-2: #ffe0b3;\n",
       "  --sklearn-color-unfitted-level-3: chocolate;\n",
       "  /* Definition of color scheme for fitted estimators */\n",
       "  --sklearn-color-fitted-level-0: #f0f8ff;\n",
       "  --sklearn-color-fitted-level-1: #d4ebff;\n",
       "  --sklearn-color-fitted-level-2: #b3dbfd;\n",
       "  --sklearn-color-fitted-level-3: cornflowerblue;\n",
       "\n",
       "  /* Specific color for light theme */\n",
       "  --sklearn-color-text-on-default-background: var(--sg-text-color, var(--theme-code-foreground, var(--jp-content-font-color1, black)));\n",
       "  --sklearn-color-background: var(--sg-background-color, var(--theme-background, var(--jp-layout-color0, white)));\n",
       "  --sklearn-color-border-box: var(--sg-text-color, var(--theme-code-foreground, var(--jp-content-font-color1, black)));\n",
       "  --sklearn-color-icon: #696969;\n",
       "\n",
       "  @media (prefers-color-scheme: dark) {\n",
       "    /* Redefinition of color scheme for dark theme */\n",
       "    --sklearn-color-text-on-default-background: var(--sg-text-color, var(--theme-code-foreground, var(--jp-content-font-color1, white)));\n",
       "    --sklearn-color-background: var(--sg-background-color, var(--theme-background, var(--jp-layout-color0, #111)));\n",
       "    --sklearn-color-border-box: var(--sg-text-color, var(--theme-code-foreground, var(--jp-content-font-color1, white)));\n",
       "    --sklearn-color-icon: #878787;\n",
       "  }\n",
       "}\n",
       "\n",
       "#sk-container-id-1 {\n",
       "  color: var(--sklearn-color-text);\n",
       "}\n",
       "\n",
       "#sk-container-id-1 pre {\n",
       "  padding: 0;\n",
       "}\n",
       "\n",
       "#sk-container-id-1 input.sk-hidden--visually {\n",
       "  border: 0;\n",
       "  clip: rect(1px 1px 1px 1px);\n",
       "  clip: rect(1px, 1px, 1px, 1px);\n",
       "  height: 1px;\n",
       "  margin: -1px;\n",
       "  overflow: hidden;\n",
       "  padding: 0;\n",
       "  position: absolute;\n",
       "  width: 1px;\n",
       "}\n",
       "\n",
       "#sk-container-id-1 div.sk-dashed-wrapped {\n",
       "  border: 1px dashed var(--sklearn-color-line);\n",
       "  margin: 0 0.4em 0.5em 0.4em;\n",
       "  box-sizing: border-box;\n",
       "  padding-bottom: 0.4em;\n",
       "  background-color: var(--sklearn-color-background);\n",
       "}\n",
       "\n",
       "#sk-container-id-1 div.sk-container {\n",
       "  /* jupyter's `normalize.less` sets `[hidden] { display: none; }`\n",
       "     but bootstrap.min.css set `[hidden] { display: none !important; }`\n",
       "     so we also need the `!important` here to be able to override the\n",
       "     default hidden behavior on the sphinx rendered scikit-learn.org.\n",
       "     See: https://github.com/scikit-learn/scikit-learn/issues/21755 */\n",
       "  display: inline-block !important;\n",
       "  position: relative;\n",
       "}\n",
       "\n",
       "#sk-container-id-1 div.sk-text-repr-fallback {\n",
       "  display: none;\n",
       "}\n",
       "\n",
       "div.sk-parallel-item,\n",
       "div.sk-serial,\n",
       "div.sk-item {\n",
       "  /* draw centered vertical line to link estimators */\n",
       "  background-image: linear-gradient(var(--sklearn-color-text-on-default-background), var(--sklearn-color-text-on-default-background));\n",
       "  background-size: 2px 100%;\n",
       "  background-repeat: no-repeat;\n",
       "  background-position: center center;\n",
       "}\n",
       "\n",
       "/* Parallel-specific style estimator block */\n",
       "\n",
       "#sk-container-id-1 div.sk-parallel-item::after {\n",
       "  content: \"\";\n",
       "  width: 100%;\n",
       "  border-bottom: 2px solid var(--sklearn-color-text-on-default-background);\n",
       "  flex-grow: 1;\n",
       "}\n",
       "\n",
       "#sk-container-id-1 div.sk-parallel {\n",
       "  display: flex;\n",
       "  align-items: stretch;\n",
       "  justify-content: center;\n",
       "  background-color: var(--sklearn-color-background);\n",
       "  position: relative;\n",
       "}\n",
       "\n",
       "#sk-container-id-1 div.sk-parallel-item {\n",
       "  display: flex;\n",
       "  flex-direction: column;\n",
       "}\n",
       "\n",
       "#sk-container-id-1 div.sk-parallel-item:first-child::after {\n",
       "  align-self: flex-end;\n",
       "  width: 50%;\n",
       "}\n",
       "\n",
       "#sk-container-id-1 div.sk-parallel-item:last-child::after {\n",
       "  align-self: flex-start;\n",
       "  width: 50%;\n",
       "}\n",
       "\n",
       "#sk-container-id-1 div.sk-parallel-item:only-child::after {\n",
       "  width: 0;\n",
       "}\n",
       "\n",
       "/* Serial-specific style estimator block */\n",
       "\n",
       "#sk-container-id-1 div.sk-serial {\n",
       "  display: flex;\n",
       "  flex-direction: column;\n",
       "  align-items: center;\n",
       "  background-color: var(--sklearn-color-background);\n",
       "  padding-right: 1em;\n",
       "  padding-left: 1em;\n",
       "}\n",
       "\n",
       "\n",
       "/* Toggleable style: style used for estimator/Pipeline/ColumnTransformer box that is\n",
       "clickable and can be expanded/collapsed.\n",
       "- Pipeline and ColumnTransformer use this feature and define the default style\n",
       "- Estimators will overwrite some part of the style using the `sk-estimator` class\n",
       "*/\n",
       "\n",
       "/* Pipeline and ColumnTransformer style (default) */\n",
       "\n",
       "#sk-container-id-1 div.sk-toggleable {\n",
       "  /* Default theme specific background. It is overwritten whether we have a\n",
       "  specific estimator or a Pipeline/ColumnTransformer */\n",
       "  background-color: var(--sklearn-color-background);\n",
       "}\n",
       "\n",
       "/* Toggleable label */\n",
       "#sk-container-id-1 label.sk-toggleable__label {\n",
       "  cursor: pointer;\n",
       "  display: block;\n",
       "  width: 100%;\n",
       "  margin-bottom: 0;\n",
       "  padding: 0.5em;\n",
       "  box-sizing: border-box;\n",
       "  text-align: center;\n",
       "}\n",
       "\n",
       "#sk-container-id-1 label.sk-toggleable__label-arrow:before {\n",
       "  /* Arrow on the left of the label */\n",
       "  content: \"▸\";\n",
       "  float: left;\n",
       "  margin-right: 0.25em;\n",
       "  color: var(--sklearn-color-icon);\n",
       "}\n",
       "\n",
       "#sk-container-id-1 label.sk-toggleable__label-arrow:hover:before {\n",
       "  color: var(--sklearn-color-text);\n",
       "}\n",
       "\n",
       "/* Toggleable content - dropdown */\n",
       "\n",
       "#sk-container-id-1 div.sk-toggleable__content {\n",
       "  max-height: 0;\n",
       "  max-width: 0;\n",
       "  overflow: hidden;\n",
       "  text-align: left;\n",
       "  /* unfitted */\n",
       "  background-color: var(--sklearn-color-unfitted-level-0);\n",
       "}\n",
       "\n",
       "#sk-container-id-1 div.sk-toggleable__content.fitted {\n",
       "  /* fitted */\n",
       "  background-color: var(--sklearn-color-fitted-level-0);\n",
       "}\n",
       "\n",
       "#sk-container-id-1 div.sk-toggleable__content pre {\n",
       "  margin: 0.2em;\n",
       "  border-radius: 0.25em;\n",
       "  color: var(--sklearn-color-text);\n",
       "  /* unfitted */\n",
       "  background-color: var(--sklearn-color-unfitted-level-0);\n",
       "}\n",
       "\n",
       "#sk-container-id-1 div.sk-toggleable__content.fitted pre {\n",
       "  /* unfitted */\n",
       "  background-color: var(--sklearn-color-fitted-level-0);\n",
       "}\n",
       "\n",
       "#sk-container-id-1 input.sk-toggleable__control:checked~div.sk-toggleable__content {\n",
       "  /* Expand drop-down */\n",
       "  max-height: 200px;\n",
       "  max-width: 100%;\n",
       "  overflow: auto;\n",
       "}\n",
       "\n",
       "#sk-container-id-1 input.sk-toggleable__control:checked~label.sk-toggleable__label-arrow:before {\n",
       "  content: \"▾\";\n",
       "}\n",
       "\n",
       "/* Pipeline/ColumnTransformer-specific style */\n",
       "\n",
       "#sk-container-id-1 div.sk-label input.sk-toggleable__control:checked~label.sk-toggleable__label {\n",
       "  color: var(--sklearn-color-text);\n",
       "  background-color: var(--sklearn-color-unfitted-level-2);\n",
       "}\n",
       "\n",
       "#sk-container-id-1 div.sk-label.fitted input.sk-toggleable__control:checked~label.sk-toggleable__label {\n",
       "  background-color: var(--sklearn-color-fitted-level-2);\n",
       "}\n",
       "\n",
       "/* Estimator-specific style */\n",
       "\n",
       "/* Colorize estimator box */\n",
       "#sk-container-id-1 div.sk-estimator input.sk-toggleable__control:checked~label.sk-toggleable__label {\n",
       "  /* unfitted */\n",
       "  background-color: var(--sklearn-color-unfitted-level-2);\n",
       "}\n",
       "\n",
       "#sk-container-id-1 div.sk-estimator.fitted input.sk-toggleable__control:checked~label.sk-toggleable__label {\n",
       "  /* fitted */\n",
       "  background-color: var(--sklearn-color-fitted-level-2);\n",
       "}\n",
       "\n",
       "#sk-container-id-1 div.sk-label label.sk-toggleable__label,\n",
       "#sk-container-id-1 div.sk-label label {\n",
       "  /* The background is the default theme color */\n",
       "  color: var(--sklearn-color-text-on-default-background);\n",
       "}\n",
       "\n",
       "/* On hover, darken the color of the background */\n",
       "#sk-container-id-1 div.sk-label:hover label.sk-toggleable__label {\n",
       "  color: var(--sklearn-color-text);\n",
       "  background-color: var(--sklearn-color-unfitted-level-2);\n",
       "}\n",
       "\n",
       "/* Label box, darken color on hover, fitted */\n",
       "#sk-container-id-1 div.sk-label.fitted:hover label.sk-toggleable__label.fitted {\n",
       "  color: var(--sklearn-color-text);\n",
       "  background-color: var(--sklearn-color-fitted-level-2);\n",
       "}\n",
       "\n",
       "/* Estimator label */\n",
       "\n",
       "#sk-container-id-1 div.sk-label label {\n",
       "  font-family: monospace;\n",
       "  font-weight: bold;\n",
       "  display: inline-block;\n",
       "  line-height: 1.2em;\n",
       "}\n",
       "\n",
       "#sk-container-id-1 div.sk-label-container {\n",
       "  text-align: center;\n",
       "}\n",
       "\n",
       "/* Estimator-specific */\n",
       "#sk-container-id-1 div.sk-estimator {\n",
       "  font-family: monospace;\n",
       "  border: 1px dotted var(--sklearn-color-border-box);\n",
       "  border-radius: 0.25em;\n",
       "  box-sizing: border-box;\n",
       "  margin-bottom: 0.5em;\n",
       "  /* unfitted */\n",
       "  background-color: var(--sklearn-color-unfitted-level-0);\n",
       "}\n",
       "\n",
       "#sk-container-id-1 div.sk-estimator.fitted {\n",
       "  /* fitted */\n",
       "  background-color: var(--sklearn-color-fitted-level-0);\n",
       "}\n",
       "\n",
       "/* on hover */\n",
       "#sk-container-id-1 div.sk-estimator:hover {\n",
       "  /* unfitted */\n",
       "  background-color: var(--sklearn-color-unfitted-level-2);\n",
       "}\n",
       "\n",
       "#sk-container-id-1 div.sk-estimator.fitted:hover {\n",
       "  /* fitted */\n",
       "  background-color: var(--sklearn-color-fitted-level-2);\n",
       "}\n",
       "\n",
       "/* Specification for estimator info (e.g. \"i\" and \"?\") */\n",
       "\n",
       "/* Common style for \"i\" and \"?\" */\n",
       "\n",
       ".sk-estimator-doc-link,\n",
       "a:link.sk-estimator-doc-link,\n",
       "a:visited.sk-estimator-doc-link {\n",
       "  float: right;\n",
       "  font-size: smaller;\n",
       "  line-height: 1em;\n",
       "  font-family: monospace;\n",
       "  background-color: var(--sklearn-color-background);\n",
       "  border-radius: 1em;\n",
       "  height: 1em;\n",
       "  width: 1em;\n",
       "  text-decoration: none !important;\n",
       "  margin-left: 1ex;\n",
       "  /* unfitted */\n",
       "  border: var(--sklearn-color-unfitted-level-1) 1pt solid;\n",
       "  color: var(--sklearn-color-unfitted-level-1);\n",
       "}\n",
       "\n",
       ".sk-estimator-doc-link.fitted,\n",
       "a:link.sk-estimator-doc-link.fitted,\n",
       "a:visited.sk-estimator-doc-link.fitted {\n",
       "  /* fitted */\n",
       "  border: var(--sklearn-color-fitted-level-1) 1pt solid;\n",
       "  color: var(--sklearn-color-fitted-level-1);\n",
       "}\n",
       "\n",
       "/* On hover */\n",
       "div.sk-estimator:hover .sk-estimator-doc-link:hover,\n",
       ".sk-estimator-doc-link:hover,\n",
       "div.sk-label-container:hover .sk-estimator-doc-link:hover,\n",
       ".sk-estimator-doc-link:hover {\n",
       "  /* unfitted */\n",
       "  background-color: var(--sklearn-color-unfitted-level-3);\n",
       "  color: var(--sklearn-color-background);\n",
       "  text-decoration: none;\n",
       "}\n",
       "\n",
       "div.sk-estimator.fitted:hover .sk-estimator-doc-link.fitted:hover,\n",
       ".sk-estimator-doc-link.fitted:hover,\n",
       "div.sk-label-container:hover .sk-estimator-doc-link.fitted:hover,\n",
       ".sk-estimator-doc-link.fitted:hover {\n",
       "  /* fitted */\n",
       "  background-color: var(--sklearn-color-fitted-level-3);\n",
       "  color: var(--sklearn-color-background);\n",
       "  text-decoration: none;\n",
       "}\n",
       "\n",
       "/* Span, style for the box shown on hovering the info icon */\n",
       ".sk-estimator-doc-link span {\n",
       "  display: none;\n",
       "  z-index: 9999;\n",
       "  position: relative;\n",
       "  font-weight: normal;\n",
       "  right: .2ex;\n",
       "  padding: .5ex;\n",
       "  margin: .5ex;\n",
       "  width: min-content;\n",
       "  min-width: 20ex;\n",
       "  max-width: 50ex;\n",
       "  color: var(--sklearn-color-text);\n",
       "  box-shadow: 2pt 2pt 4pt #999;\n",
       "  /* unfitted */\n",
       "  background: var(--sklearn-color-unfitted-level-0);\n",
       "  border: .5pt solid var(--sklearn-color-unfitted-level-3);\n",
       "}\n",
       "\n",
       ".sk-estimator-doc-link.fitted span {\n",
       "  /* fitted */\n",
       "  background: var(--sklearn-color-fitted-level-0);\n",
       "  border: var(--sklearn-color-fitted-level-3);\n",
       "}\n",
       "\n",
       ".sk-estimator-doc-link:hover span {\n",
       "  display: block;\n",
       "}\n",
       "\n",
       "/* \"?\"-specific style due to the `<a>` HTML tag */\n",
       "\n",
       "#sk-container-id-1 a.estimator_doc_link {\n",
       "  float: right;\n",
       "  font-size: 1rem;\n",
       "  line-height: 1em;\n",
       "  font-family: monospace;\n",
       "  background-color: var(--sklearn-color-background);\n",
       "  border-radius: 1rem;\n",
       "  height: 1rem;\n",
       "  width: 1rem;\n",
       "  text-decoration: none;\n",
       "  /* unfitted */\n",
       "  color: var(--sklearn-color-unfitted-level-1);\n",
       "  border: var(--sklearn-color-unfitted-level-1) 1pt solid;\n",
       "}\n",
       "\n",
       "#sk-container-id-1 a.estimator_doc_link.fitted {\n",
       "  /* fitted */\n",
       "  border: var(--sklearn-color-fitted-level-1) 1pt solid;\n",
       "  color: var(--sklearn-color-fitted-level-1);\n",
       "}\n",
       "\n",
       "/* On hover */\n",
       "#sk-container-id-1 a.estimator_doc_link:hover {\n",
       "  /* unfitted */\n",
       "  background-color: var(--sklearn-color-unfitted-level-3);\n",
       "  color: var(--sklearn-color-background);\n",
       "  text-decoration: none;\n",
       "}\n",
       "\n",
       "#sk-container-id-1 a.estimator_doc_link.fitted:hover {\n",
       "  /* fitted */\n",
       "  background-color: var(--sklearn-color-fitted-level-3);\n",
       "}\n",
       "</style><div id=\"sk-container-id-1\" class=\"sk-top-container\"><div class=\"sk-text-repr-fallback\"><pre>MLPClassifier(hidden_layer_sizes=(512, 256), max_iter=10)</pre><b>In a Jupyter environment, please rerun this cell to show the HTML representation or trust the notebook. <br />On GitHub, the HTML representation is unable to render, please try loading this page with nbviewer.org.</b></div><div class=\"sk-container\" hidden><div class=\"sk-item\"><div class=\"sk-estimator fitted sk-toggleable\"><input class=\"sk-toggleable__control sk-hidden--visually\" id=\"sk-estimator-id-1\" type=\"checkbox\" checked><label for=\"sk-estimator-id-1\" class=\"sk-toggleable__label fitted sk-toggleable__label-arrow fitted\">&nbsp;&nbsp;MLPClassifier<a class=\"sk-estimator-doc-link fitted\" rel=\"noreferrer\" target=\"_blank\" href=\"https://scikit-learn.org/1.5/modules/generated/sklearn.neural_network.MLPClassifier.html\">?<span>Documentation for MLPClassifier</span></a><span class=\"sk-estimator-doc-link fitted\">i<span>Fitted</span></span></label><div class=\"sk-toggleable__content fitted\"><pre>MLPClassifier(hidden_layer_sizes=(512, 256), max_iter=10)</pre></div> </div></div></div></div>"
      ],
      "text/plain": [
       "MLPClassifier(hidden_layer_sizes=(512, 256), max_iter=10)"
      ]
     },
     "execution_count": 29,
     "metadata": {},
     "output_type": "execute_result"
    }
   ],
   "source": [
    "mlp_model = MLPClassifier(hidden_layer_sizes=(512, 256), activation='relu', solver='adam', max_iter=10)\n",
    "mlp_model.fit(X_train.reshape(X_train.shape[0], -1), y_train)\n"
   ]
  },
  {
   "cell_type": "code",
   "execution_count": 30,
   "metadata": {
    "colab": {
     "base_uri": "https://localhost:8080/"
    },
    "executionInfo": {
     "elapsed": 524,
     "status": "ok",
     "timestamp": 1732383925317,
     "user": {
      "displayName": "Hatice Aksu",
      "userId": "00313444944309418514"
     },
     "user_tz": -180
    },
    "id": "9URB_inz2CwN",
    "outputId": "aed026ba-39fd-49b4-ea55-d0bfbc612768"
   },
   "outputs": [
    {
     "name": "stdout",
     "output_type": "stream",
     "text": [
      "MLP Classification Report:\n",
      "               precision    recall  f1-score   support\n",
      "\n",
      "           0       0.99      0.99      0.99        85\n",
      "           1       1.00      1.00      1.00       905\n",
      "\n",
      "    accuracy                           1.00       990\n",
      "   macro avg       0.99      0.99      0.99       990\n",
      "weighted avg       1.00      1.00      1.00       990\n",
      "\n"
     ]
    }
   ],
   "source": [
    "# MLP Model Değerlendirme\n",
    "y_pred_mlp = mlp_model.predict(X_test.reshape(X_test.shape[0], -1))\n",
    "print(\"MLP Classification Report:\\n\", classification_report(y_test, y_pred_mlp))\n",
    "conf_matrix_mlp = confusion_matrix(y_test, y_pred_mlp)\n",
    "plt.figure(figsize=(10, 7))\n",
    "sns.heatmap(conf_matrix_mlp, annot=True, cmap='Blues', fmt='g')\n",
    "plt.title(\"MLP Confusion Matrix\")\n",
    "plt.savefig(os.path.join(base_folder, 'mlp_confusion_matrix.png'))\n",
    "plt.close()"
   ]
  },
  {
   "cell_type": "markdown",
   "metadata": {
    "id": "6e1S5Jdt2GzH"
   },
   "source": [
    " 3.2. RBF Modeli:\n"
   ]
  },
  {
   "cell_type": "code",
   "execution_count": 31,
   "metadata": {
    "executionInfo": {
     "elapsed": 256,
     "status": "ok",
     "timestamp": 1732383930946,
     "user": {
      "displayName": "Hatice Aksu",
      "userId": "00313444944309418514"
     },
     "user_tz": -180
    },
    "id": "qAaWTmS72FCz"
   },
   "outputs": [],
   "source": [
    "\n",
    "class RBFClassifier(nn.Module):\n",
    "    def __init__(self):\n",
    "        super(RBFClassifier, self).__init__()\n",
    "        self.fc1 = nn.Linear(32 * 32 * 3, 512)\n",
    "        self.rbf_layer = nn.Linear(512, 256)  # RBF katmanı için doğrusal yaklaşım\n",
    "        self.fc2 = nn.Linear(256, 43)  # 43 sinif\n",
    "\n",
    "    def forward(self, x):\n",
    "        x = x.view(-1, 32 * 32 * 3)\n",
    "        x = torch.relu(self.fc1(x))\n",
    "        x = torch.relu(self.rbf_layer(x))\n",
    "        x = self.fc2(x)\n",
    "        return x"
   ]
  },
  {
   "cell_type": "code",
   "execution_count": 32,
   "metadata": {
    "executionInfo": {
     "elapsed": 245,
     "status": "ok",
     "timestamp": 1732383933862,
     "user": {
      "displayName": "Hatice Aksu",
      "userId": "00313444944309418514"
     },
     "user_tz": -180
    },
    "id": "n5hqjfc72Oi-"
   },
   "outputs": [],
   "source": [
    "# Model, Loss Fonksiyonu ve Optimizasyon\n",
    "rbf_model = RBFClassifier()\n",
    "criterion = nn.CrossEntropyLoss()\n",
    "optimizer = optim.Adam(rbf_model.parameters(), lr=0.001)"
   ]
  },
  {
   "cell_type": "code",
   "execution_count": 33,
   "metadata": {
    "colab": {
     "base_uri": "https://localhost:8080/"
    },
    "executionInfo": {
     "elapsed": 36383,
     "status": "ok",
     "timestamp": 1732383972017,
     "user": {
      "displayName": "Hatice Aksu",
      "userId": "00313444944309418514"
     },
     "user_tz": -180
    },
    "id": "lV9NO_eY2Q8G",
    "outputId": "43cdc5cc-ad96-4460-9ba9-b1f2385464cc"
   },
   "outputs": [
    {
     "name": "stdout",
     "output_type": "stream",
     "text": [
      "Epoch [1/10], Loss: 0.3111\n",
      "Epoch [2/10], Loss: 0.0527\n",
      "Epoch [3/10], Loss: 0.0207\n",
      "Epoch [4/10], Loss: 0.0516\n",
      "Epoch [5/10], Loss: 0.0112\n",
      "Epoch [6/10], Loss: 0.0266\n",
      "Epoch [7/10], Loss: 0.0302\n",
      "Epoch [8/10], Loss: 0.0061\n",
      "Epoch [9/10], Loss: 0.0003\n",
      "Epoch [10/10], Loss: 0.0001\n",
      "Estimated training time: 36.13 seconds\n"
     ]
    }
   ],
   "source": [
    "# RBF Model Eğitimi\n",
    "num_epochs = 10\n",
    "start_time = time.time()\n",
    "for epoch in range(num_epochs):\n",
    "    rbf_model.train()\n",
    "    running_loss = 0.0\n",
    "    for images, labels in train_loader:\n",
    "        optimizer.zero_grad()\n",
    "        outputs = rbf_model(images)\n",
    "        loss = criterion(outputs, labels)\n",
    "        loss.backward()\n",
    "        optimizer.step()\n",
    "        running_loss += loss.item()\n",
    "    print(f\"Epoch [{epoch+1}/{num_epochs}], Loss: {running_loss/len(train_loader):.4f}\")\n",
    "\n",
    "end_time = time.time()\n",
    "print(f\"Estimated training time: {end_time - start_time:.2f} seconds\")\n"
   ]
  },
  {
   "cell_type": "markdown",
   "metadata": {
    "id": "4F-2KwYo2UUh"
   },
   "source": [
    "4. Performans Ölçümleri\n"
   ]
  },
  {
   "cell_type": "code",
   "execution_count": 34,
   "metadata": {
    "executionInfo": {
     "elapsed": 550,
     "status": "ok",
     "timestamp": 1732384029730,
     "user": {
      "displayName": "Hatice Aksu",
      "userId": "00313444944309418514"
     },
     "user_tz": -180
    },
    "id": "rK-fc5Rb2T-o"
   },
   "outputs": [],
   "source": [
    "\n",
    "# RBF Model Değerlendirme\n",
    "rbf_model.eval()\n",
    "y_pred_rbf = []\n",
    "y_true_rbf = []\n",
    "with torch.no_grad():\n",
    "    for images, labels in test_loader:\n",
    "        outputs = rbf_model(images)\n",
    "        _, predicted = torch.max(outputs, 1)\n",
    "        y_pred_rbf.extend(predicted.numpy())\n",
    "        y_true_rbf.extend(labels.numpy())"
   ]
  },
  {
   "cell_type": "code",
   "execution_count": 35,
   "metadata": {
    "colab": {
     "base_uri": "https://localhost:8080/"
    },
    "executionInfo": {
     "elapsed": 555,
     "status": "ok",
     "timestamp": 1732384032086,
     "user": {
      "displayName": "Hatice Aksu",
      "userId": "00313444944309418514"
     },
     "user_tz": -180
    },
    "id": "N5QRhJJf2cP1",
    "outputId": "a9e2f3c3-1b36-460e-ff6e-bffe9255fa30"
   },
   "outputs": [
    {
     "name": "stdout",
     "output_type": "stream",
     "text": [
      "RBF Classification Report:\n",
      "               precision    recall  f1-score   support\n",
      "\n",
      "           0       0.97      0.98      0.97        85\n",
      "           1       1.00      1.00      1.00       905\n",
      "\n",
      "    accuracy                           0.99       990\n",
      "   macro avg       0.98      0.99      0.98       990\n",
      "weighted avg       0.99      0.99      0.99       990\n",
      "\n"
     ]
    }
   ],
   "source": [
    "# Sonuçları Yazdırma\n",
    "print(\"RBF Classification Report:\\n\", classification_report(y_true_rbf, y_pred_rbf))\n",
    "conf_matrix_rbf = confusion_matrix(y_true_rbf, y_pred_rbf)\n",
    "plt.figure(figsize=(10, 7))\n",
    "sns.heatmap(conf_matrix_rbf, annot=True, cmap='Blues', fmt='g')\n",
    "plt.title(\"RBF Confusion Matrix\")\n",
    "plt.savefig(os.path.join(base_folder, 'traffic_sign_rbf_confusion_matrix_v2.png'))\n",
    "plt.close()"
   ]
  },
  {
   "cell_type": "code",
   "execution_count": 36,
   "metadata": {
    "colab": {
     "base_uri": "https://localhost:8080/"
    },
    "executionInfo": {
     "elapsed": 299,
     "status": "ok",
     "timestamp": 1732384035568,
     "user": {
      "displayName": "Hatice Aksu",
      "userId": "00313444944309418514"
     },
     "user_tz": -180
    },
    "id": "R8wO3Q5i2e0F",
    "outputId": "e8d77da1-775e-4bfb-a123-7ea87564096e"
   },
   "outputs": [
    {
     "name": "stdout",
     "output_type": "stream",
     "text": [
      "MLP Metrics:\n",
      "Accuracy: 0.9980\n",
      "Precision: 0.9980\n",
      "Recall: 0.9980\n",
      "F1 Score: 0.9980\n",
      "RBF Metrics:\n",
      "Accuracy: 0.9949\n",
      "Precision: 0.9950\n",
      "Recall: 0.9949\n",
      "F1 Score: 0.9950\n"
     ]
    }
   ],
   "source": [
    "\n",
    "# 4.2. Performans Metrikleri:\n",
    "# Her iki model için accuracy, precision, recall, ve F1-score gibi metriklerden gerekli olanları hesaplayın.\n",
    "mlp_metrics = classification_report(y_test, y_pred_mlp, output_dict=True)\n",
    "rbf_metrics = classification_report(y_true_rbf, y_pred_rbf, output_dict=True)\n",
    "\n",
    "print(\"MLP Metrics:\")\n",
    "print(f\"Accuracy: {mlp_metrics['accuracy']:.4f}\")\n",
    "print(f\"Precision: {mlp_metrics['weighted avg']['precision']:.4f}\")\n",
    "print(f\"Recall: {mlp_metrics['weighted avg']['recall']:.4f}\")\n",
    "print(f\"F1 Score: {mlp_metrics['weighted avg']['f1-score']:.4f}\")\n",
    "\n",
    "print(\"RBF Metrics:\")\n",
    "print(f\"Accuracy: {rbf_metrics['accuracy']:.4f}\")\n",
    "print(f\"Precision: {rbf_metrics['weighted avg']['precision']:.4f}\")\n",
    "print(f\"Recall: {rbf_metrics['weighted avg']['recall']:.4f}\")\n",
    "print(f\"F1 Score: {rbf_metrics['weighted avg']['f1-score']:.4f}\")"
   ]
  },
  {
   "cell_type": "markdown",
   "metadata": {
    "id": "BuubDISI60fL"
   },
   "source": [
    "5. Hiperparametre Denemeleri ve Sonuçları Karşılaştırma\n",
    "\n",
    "5.1. Hiperparametre Denemeleri:\n",
    "\n"
   ]
  },
  {
   "cell_type": "code",
   "execution_count": 37,
   "metadata": {
    "colab": {
     "base_uri": "https://localhost:8080/"
    },
    "executionInfo": {
     "elapsed": 392588,
     "status": "ok",
     "timestamp": 1732384436325,
     "user": {
      "displayName": "Hatice Aksu",
      "userId": "00313444944309418514"
     },
     "user_tz": -180
    },
    "id": "dJgArMGS2mQX",
    "outputId": "468f0e87-69ed-487a-fb0e-59289923e203"
   },
   "outputs": [
    {
     "name": "stdout",
     "output_type": "stream",
     "text": [
      "Fitting 3 folds for each of 24 candidates, totalling 72 fits\n",
      "Best MLP Parameters: {'activation': 'relu', 'hidden_layer_sizes': (512, 256, 128), 'learning_rate': 'constant', 'solver': 'adam'}\n"
     ]
    },
    {
     "name": "stderr",
     "output_type": "stream",
     "text": [
      "/usr/local/lib/python3.10/dist-packages/sklearn/neural_network/_multilayer_perceptron.py:690: ConvergenceWarning: Stochastic Optimizer: Maximum iterations (10) reached and the optimization hasn't converged yet.\n",
      "  warnings.warn(\n"
     ]
    }
   ],
   "source": [
    "param_grid = {\n",
    "    'hidden_layer_sizes': [(256,), (512, 256), (512, 256, 128)],\n",
    "    'activation': ['relu', 'tanh'],\n",
    "    'solver': ['adam', 'sgd'],\n",
    "    'learning_rate': ['constant', 'adaptive']\n",
    "}\n",
    "\n",
    "mlp_grid_search = GridSearchCV(MLPClassifier(max_iter=10), param_grid, cv=3, n_jobs=-1, verbose=2)\n",
    "mlp_grid_search.fit(X_train.reshape(X_train.shape[0], -1), y_train)\n",
    "print(\"Best MLP Parameters:\", mlp_grid_search.best_params_)"
   ]
  },
  {
   "cell_type": "markdown",
   "metadata": {
    "id": "xbgN0ZeA65FK"
   },
   "source": [
    "5.2. Sonuçları Karşılaştırma ve Yorumlama:"
   ]
  },
  {
   "cell_type": "code",
   "execution_count": 39,
   "metadata": {
    "colab": {
     "base_uri": "https://localhost:8080/"
    },
    "executionInfo": {
     "elapsed": 271,
     "status": "ok",
     "timestamp": 1732384526385,
     "user": {
      "displayName": "Hatice Aksu",
      "userId": "00313444944309418514"
     },
     "user_tz": -180
    },
    "id": "vPO9H7kT2qZv",
    "outputId": "fbdab644-5787-4695-c4e2-467781886e1b"
   },
   "outputs": [
    {
     "name": "stdout",
     "output_type": "stream",
     "text": [
      "  Model  Accuracy  Precision    Recall  F1 Score\n",
      "0   MLP  0.997980   0.997980  0.997980  0.997980\n",
      "1   RBF  0.994949   0.994982  0.994949  0.994963\n"
     ]
    }
   ],
   "source": [
    "results = {\n",
    "    \"Model\": [\"MLP\", \"RBF\"],\n",
    "    \"Accuracy\": [mlp_metrics['accuracy'], rbf_metrics['accuracy']],\n",
    "    \"Precision\": [mlp_metrics['weighted avg']['precision'], rbf_metrics['weighted avg']['precision']],\n",
    "    \"Recall\": [mlp_metrics['weighted avg']['recall'], rbf_metrics['weighted avg']['recall']],\n",
    "    \"F1 Score\": [mlp_metrics['weighted avg']['f1-score'], rbf_metrics['weighted avg']['f1-score']]\n",
    "}\n",
    "\n",
    "results_df = pd.DataFrame(results)\n",
    "print(results_df)\n",
    "\n",
    "plt.figure(figsize=(10, 5))\n",
    "sns.barplot(x=\"Model\", y=\"Accuracy\", data=results_df)\n",
    "plt.title(\"Model Accuracy Comparison\")\n",
    "plt.savefig(os.path.join(base_folder, 'model_accuracy_comparison.png'))\n",
    "plt.close()\n"
   ]
  },
  {
   "cell_type": "code",
   "execution_count": 46,
   "metadata": {
    "colab": {
     "base_uri": "https://localhost:8080/",
     "height": 848
    },
    "executionInfo": {
     "elapsed": 891,
     "status": "ok",
     "timestamp": 1732384918356,
     "user": {
      "displayName": "Hatice Aksu",
      "userId": "00313444944309418514"
     },
     "user_tz": -180
    },
    "id": "ssxd2TwXKiXC",
    "outputId": "891c0501-291d-41a2-85d2-c5ce93539f42"
   },
   "outputs": [
    {
     "name": "stdout",
     "output_type": "stream",
     "text": [
      "  Model  Accuracy  Precision    Recall  F1 Score\n",
      "0   MLP  0.997980   0.997980  0.997980  0.997980\n",
      "1   RBF  0.994949   0.994982  0.994949  0.994963\n"
     ]
    },
    {
     "data": {
      "image/png": "[encoded data removed]",
      "text/plain": [
       "<Figure size 1400x800 with 1 Axes>"
      ]
     },
     "metadata": {},
     "output_type": "display_data"
    }
   ],
   "source": [
    "# Sonuclarin gösterimi\n",
    "results_df = pd.DataFrame(results)\n",
    "print(results_df)\n",
    "\n",
    "import numpy as np\n",
    "import matplotlib.pyplot as plt\n",
    "import matplotlib.colors as mcolors\n",
    "\n",
    "plt.figure(figsize=(14, 8))\n",
    "\n",
    "\n",
    "metrics = ['Accuracy', 'Precision', 'Recall', 'F1 Score']\n",
    "x = np.arange(len(results_df['Model']))  # Model sayısına göre x ekseni konumları\n",
    "width = 0.2  # Bar genişliği\n",
    "\n",
    "colors = ['#1f77b4', '#4c78a8', '#6baed6', '#9ecae1']  # Mavinin tonlarını kullanmak için renkler\n",
    "\n",
    "for i, (metric, color) in enumerate(zip(metrics, colors)):\n",
    "    plt.bar(x + i * width, results_df[metric], width=width, label=metric, color=color)\n",
    "\n",
    "plt.title(\"Model Performance Metrics Comparison\")\n",
    "plt.xlabel(\"Model\")\n",
    "plt.ylabel(\"Score\")\n",
    "plt.xticks(x + width * (len(metrics) / 2 - 0.5), results_df['Model'], rotation=45)\n",
    "plt.legend()\n",
    "plt.tight_layout()\n",
    "plt.savefig(os.path.join(base_folder, 'model_performance_comparison_side_by_side_bar.png'))\n",
    "plt.show()\n"
   ]
  }
 ],
 "metadata": {
  "colab": {
   "authorship_tag": "ABX9TyNI7RhhFpqUzgpBeuKjJQ+W",
   "mount_file_id": "1ZhmX04HJqHADVa2BNvgsMOhGEUjD-dPa",
   "provenance": []
  },
  "kernelspec": {
   "display_name": "Python 3",
   "name": "python3"
  },
  "language_info": {
   "name": "python"
  }
 },
 "nbformat": 4,
 "nbformat_minor": 0
}
